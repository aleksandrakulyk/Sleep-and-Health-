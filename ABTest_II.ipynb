{
 "cells": [
  {
   "cell_type": "code",
   "execution_count": null,
   "id": "5a200086-ff93-45f5-b75e-34ced11ac692",
   "metadata": {},
   "outputs": [],
   "source": [
    "#A/B Test 2: How stress affects sleep quality\n",
    "\n",
    "Hypothesis:\n",
    "\n",
    "Null Hypothesis (H0): High stress level significantly affects sleep quality. Those who stress less have better quality of sleep than those who are more stressed. \n",
    "Alternative Hypothesis (H1): Stress does not affect sleep quality.There is no significant difference in quality of sleep between the two groups."
   ]
  },
  {
   "cell_type": "code",
   "execution_count": 1,
   "id": "c1be3d64-559a-409d-823e-b2caa6c9bb45",
   "metadata": {},
   "outputs": [
    {
     "name": "stdout",
     "output_type": "stream",
     "text": [
      "Requirement already satisfied: scipy in c:\\users\\aleks\\appdata\\local\\programs\\python\\python312\\lib\\site-packages (1.14.0)\n",
      "Requirement already satisfied: numpy<2.3,>=1.23.5 in c:\\users\\aleks\\appdata\\local\\programs\\python\\python312\\lib\\site-packages (from scipy) (1.26.1)\n"
     ]
    },
    {
     "name": "stderr",
     "output_type": "stream",
     "text": [
      "\n",
      "[notice] A new release of pip is available: 23.2.1 -> 24.1.1\n",
      "[notice] To update, run: python.exe -m pip install --upgrade pip\n"
     ]
    }
   ],
   "source": [
    "import pandas as pd\n",
    "import matplotlib.pyplot as plt\n",
    "!pip install scipy\n",
    "from scipy import stats\n",
    "from scipy.stats import ttest_ind"
   ]
  },
  {
   "cell_type": "code",
   "execution_count": 3,
   "id": "ce43cffc-199f-4781-b931-6bfaced002f6",
   "metadata": {},
   "outputs": [],
   "source": [
    "df = pd.read_csv(\"Sleep_health_and_lifestyle_dataset.csv\")"
   ]
  },
  {
   "cell_type": "code",
   "execution_count": 4,
   "id": "6bdc40cc-9e7d-432d-abb5-eb9bb5be8731",
   "metadata": {},
   "outputs": [
    {
     "data": {
      "text/html": [
       "<div>\n",
       "<style scoped>\n",
       "    .dataframe tbody tr th:only-of-type {\n",
       "        vertical-align: middle;\n",
       "    }\n",
       "\n",
       "    .dataframe tbody tr th {\n",
       "        vertical-align: top;\n",
       "    }\n",
       "\n",
       "    .dataframe thead th {\n",
       "        text-align: right;\n",
       "    }\n",
       "</style>\n",
       "<table border=\"1\" class=\"dataframe\">\n",
       "  <thead>\n",
       "    <tr style=\"text-align: right;\">\n",
       "      <th></th>\n",
       "      <th>PersonID</th>\n",
       "      <th>Gender</th>\n",
       "      <th>Age</th>\n",
       "      <th>Occupation</th>\n",
       "      <th>SleepDuration</th>\n",
       "      <th>QualityofSleep</th>\n",
       "      <th>PhysicalActivityLevel</th>\n",
       "      <th>StressLevel</th>\n",
       "      <th>BMICategory</th>\n",
       "      <th>BloodPressure</th>\n",
       "      <th>HeartRate</th>\n",
       "      <th>DailySteps</th>\n",
       "      <th>SleepDisorder</th>\n",
       "      <th>MentalHealth</th>\n",
       "    </tr>\n",
       "  </thead>\n",
       "  <tbody>\n",
       "    <tr>\n",
       "      <th>0</th>\n",
       "      <td>1</td>\n",
       "      <td>Male</td>\n",
       "      <td>27</td>\n",
       "      <td>Software Engineer</td>\n",
       "      <td>6.1</td>\n",
       "      <td>6</td>\n",
       "      <td>42</td>\n",
       "      <td>6</td>\n",
       "      <td>Overweight</td>\n",
       "      <td>126/83</td>\n",
       "      <td>77</td>\n",
       "      <td>4200</td>\n",
       "      <td>NaN</td>\n",
       "      <td>Medium</td>\n",
       "    </tr>\n",
       "    <tr>\n",
       "      <th>1</th>\n",
       "      <td>2</td>\n",
       "      <td>Male</td>\n",
       "      <td>28</td>\n",
       "      <td>Doctor</td>\n",
       "      <td>6.2</td>\n",
       "      <td>6</td>\n",
       "      <td>60</td>\n",
       "      <td>8</td>\n",
       "      <td>Normal</td>\n",
       "      <td>125/80</td>\n",
       "      <td>75</td>\n",
       "      <td>10000</td>\n",
       "      <td>NaN</td>\n",
       "      <td>Low</td>\n",
       "    </tr>\n",
       "    <tr>\n",
       "      <th>2</th>\n",
       "      <td>3</td>\n",
       "      <td>Male</td>\n",
       "      <td>28</td>\n",
       "      <td>Doctor</td>\n",
       "      <td>6.2</td>\n",
       "      <td>6</td>\n",
       "      <td>60</td>\n",
       "      <td>8</td>\n",
       "      <td>Normal</td>\n",
       "      <td>125/80</td>\n",
       "      <td>75</td>\n",
       "      <td>10000</td>\n",
       "      <td>NaN</td>\n",
       "      <td>Low</td>\n",
       "    </tr>\n",
       "    <tr>\n",
       "      <th>3</th>\n",
       "      <td>4</td>\n",
       "      <td>Male</td>\n",
       "      <td>28</td>\n",
       "      <td>Sales Representative</td>\n",
       "      <td>5.9</td>\n",
       "      <td>4</td>\n",
       "      <td>30</td>\n",
       "      <td>8</td>\n",
       "      <td>Obese</td>\n",
       "      <td>140/90</td>\n",
       "      <td>85</td>\n",
       "      <td>3000</td>\n",
       "      <td>Sleep Apnea</td>\n",
       "      <td>Low</td>\n",
       "    </tr>\n",
       "    <tr>\n",
       "      <th>4</th>\n",
       "      <td>5</td>\n",
       "      <td>Male</td>\n",
       "      <td>28</td>\n",
       "      <td>Sales Representative</td>\n",
       "      <td>5.9</td>\n",
       "      <td>4</td>\n",
       "      <td>30</td>\n",
       "      <td>8</td>\n",
       "      <td>Obese</td>\n",
       "      <td>140/90</td>\n",
       "      <td>85</td>\n",
       "      <td>3000</td>\n",
       "      <td>Sleep Apnea</td>\n",
       "      <td>Low</td>\n",
       "    </tr>\n",
       "  </tbody>\n",
       "</table>\n",
       "</div>"
      ],
      "text/plain": [
       "   PersonID Gender  Age            Occupation  SleepDuration  QualityofSleep  \\\n",
       "0         1   Male   27     Software Engineer            6.1               6   \n",
       "1         2   Male   28                Doctor            6.2               6   \n",
       "2         3   Male   28                Doctor            6.2               6   \n",
       "3         4   Male   28  Sales Representative            5.9               4   \n",
       "4         5   Male   28  Sales Representative            5.9               4   \n",
       "\n",
       "   PhysicalActivityLevel  StressLevel BMICategory BloodPressure  HeartRate  \\\n",
       "0                     42            6  Overweight        126/83         77   \n",
       "1                     60            8      Normal        125/80         75   \n",
       "2                     60            8      Normal        125/80         75   \n",
       "3                     30            8       Obese        140/90         85   \n",
       "4                     30            8       Obese        140/90         85   \n",
       "\n",
       "   DailySteps SleepDisorder MentalHealth  \n",
       "0        4200           NaN       Medium  \n",
       "1       10000           NaN          Low  \n",
       "2       10000           NaN          Low  \n",
       "3        3000   Sleep Apnea          Low  \n",
       "4        3000   Sleep Apnea          Low  "
      ]
     },
     "execution_count": 4,
     "metadata": {},
     "output_type": "execute_result"
    }
   ],
   "source": [
    "df.head()"
   ]
  },
  {
   "cell_type": "code",
   "execution_count": 5,
   "id": "c61d80b4-ffa0-40f2-9155-998fbd051775",
   "metadata": {},
   "outputs": [],
   "source": [
    "#Removing needles MentalHealth column & SleepDisorder NaN updating\n",
    "\n",
    "df = df.drop('MentalHealth', axis=1)\n",
    "df.fillna('None', inplace = True)"
   ]
  },
  {
   "cell_type": "code",
   "execution_count": 6,
   "id": "e01097f3-a827-4309-855c-782976381c19",
   "metadata": {},
   "outputs": [
    {
     "data": {
      "text/plain": [
       "0"
      ]
     },
     "execution_count": 6,
     "metadata": {},
     "output_type": "execute_result"
    }
   ],
   "source": [
    "#Duplicates checking\n",
    "\n",
    "df.duplicated(subset='PersonID').sum()"
   ]
  },
  {
   "cell_type": "code",
   "execution_count": null,
   "id": "6c966556-cf39-464d-b231-46c26d413a29",
   "metadata": {},
   "outputs": [],
   "source": [
    "#To perform Test StressLevel need to be converted into two categories: Low&High"
   ]
  },
  {
   "cell_type": "code",
   "execution_count": 8,
   "id": "5c593a64-61fb-4210-b420-966eeb234e3e",
   "metadata": {},
   "outputs": [
    {
     "name": "stdout",
     "output_type": "stream",
     "text": [
      "3 8\n"
     ]
    }
   ],
   "source": [
    "# Max & min value\n",
    "maxStressLevel = df['StressLevel'].max()\n",
    "minStressLevel = df['StressLevel'].min()\n",
    "\n",
    "print(minStressLevel, maxStressLevel)\n"
   ]
  },
  {
   "cell_type": "code",
   "execution_count": null,
   "id": "bca3e97d-1297-4e7c-a936-21fe17620b9b",
   "metadata": {},
   "outputs": [],
   "source": [
    "#Testing Group"
   ]
  },
  {
   "cell_type": "code",
   "execution_count": 10,
   "id": "f9185638-d668-4a4b-b87e-f899adac7c7b",
   "metadata": {},
   "outputs": [],
   "source": [
    "def CategorizeStressLevel(StressLevel):\n",
    "    if 3 <= StressLevel < 5:\n",
    "        return 'Low'\n",
    "    else:\n",
    "        return 'High'\n",
    "\n",
    "df['StressLevelCategory'] = df['StressLevel'].apply(CategorizeStressLevel)"
   ]
  },
  {
   "cell_type": "code",
   "execution_count": 17,
   "id": "178c506d-f8a2-4d69-9bee-dfe76bc31a08",
   "metadata": {},
   "outputs": [
    {
     "data": {
      "text/html": [
       "<div>\n",
       "<style scoped>\n",
       "    .dataframe tbody tr th:only-of-type {\n",
       "        vertical-align: middle;\n",
       "    }\n",
       "\n",
       "    .dataframe tbody tr th {\n",
       "        vertical-align: top;\n",
       "    }\n",
       "\n",
       "    .dataframe thead th {\n",
       "        text-align: right;\n",
       "    }\n",
       "</style>\n",
       "<table border=\"1\" class=\"dataframe\">\n",
       "  <thead>\n",
       "    <tr style=\"text-align: right;\">\n",
       "      <th></th>\n",
       "      <th>QualityofSleep</th>\n",
       "      <th>StressLevelCategory</th>\n",
       "    </tr>\n",
       "  </thead>\n",
       "  <tbody>\n",
       "    <tr>\n",
       "      <th>0</th>\n",
       "      <td>6</td>\n",
       "      <td>High</td>\n",
       "    </tr>\n",
       "    <tr>\n",
       "      <th>1</th>\n",
       "      <td>6</td>\n",
       "      <td>High</td>\n",
       "    </tr>\n",
       "    <tr>\n",
       "      <th>2</th>\n",
       "      <td>6</td>\n",
       "      <td>High</td>\n",
       "    </tr>\n",
       "    <tr>\n",
       "      <th>3</th>\n",
       "      <td>4</td>\n",
       "      <td>High</td>\n",
       "    </tr>\n",
       "    <tr>\n",
       "      <th>4</th>\n",
       "      <td>4</td>\n",
       "      <td>High</td>\n",
       "    </tr>\n",
       "  </tbody>\n",
       "</table>\n",
       "</div>"
      ],
      "text/plain": [
       "   QualityofSleep StressLevelCategory\n",
       "0               6                High\n",
       "1               6                High\n",
       "2               6                High\n",
       "3               4                High\n",
       "4               4                High"
      ]
     },
     "execution_count": 17,
     "metadata": {},
     "output_type": "execute_result"
    }
   ],
   "source": [
    "df_cat = df[['QualityofSleep', 'StressLevelCategory']]\n",
    "df_cat.head()"
   ]
  },
  {
   "cell_type": "code",
   "execution_count": 19,
   "id": "495d27c3-07ed-49e4-a408-9d9703ee3e53",
   "metadata": {},
   "outputs": [
    {
     "name": "stdout",
     "output_type": "stream",
     "text": [
      "T-Statistic: 16.92177669267156\n",
      "P-Value: 4.8317346909074696e-48\n",
      "There is a significant difference in sleep quality between those who stress more and those stress less.\n"
     ]
    }
   ],
   "source": [
    "\n",
    "lowStressGroup = df_cat[df_cat['StressLevelCategory'] == 'Low']['QualityofSleep']\n",
    "highStressGroup = df_cat[df_cat['StressLevelCategory'] == 'High']['QualityofSleep']\n",
    "\n",
    "t_statistic, p_value = stats.ttest_ind(lowStressGroup, highStressGroup)\n",
    "\n",
    "print(f\"T-Statistic: {t_statistic}\")\n",
    "print(f\"P-Value: {p_value}\")\n",
    "\n",
    "alpha = 0.05\n",
    "if p_value < alpha:\n",
    "    print(\"There is a significant difference in sleep quality between those who stress more and those who stress less.\")\n",
    "else:\n",
    "    print(\"There is no significant difference in sleep quality between those who stress more and those who stress less.\")"
   ]
  },
  {
   "cell_type": "code",
   "execution_count": null,
   "id": "af2c44a0-ec3f-4d82-b537-7aae3da9c222",
   "metadata": {},
   "outputs": [],
   "source": []
  }
 ],
 "metadata": {
  "kernelspec": {
   "display_name": "Python 3 (ipykernel)",
   "language": "python",
   "name": "python3"
  },
  "language_info": {
   "codemirror_mode": {
    "name": "ipython",
    "version": 3
   },
   "file_extension": ".py",
   "mimetype": "text/x-python",
   "name": "python",
   "nbconvert_exporter": "python",
   "pygments_lexer": "ipython3",
   "version": "3.12.0"
  }
 },
 "nbformat": 4,
 "nbformat_minor": 5
}
