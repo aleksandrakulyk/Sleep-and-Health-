{
 "cells": [
  {
   "cell_type": "code",
   "execution_count": null,
   "id": "b7888556-8dd3-4729-87ca-453ec07a339f",
   "metadata": {},
   "outputs": [],
   "source": [
    "#A/B Test 1: Impact of Physical Activity on Sleep Duration\n",
    "Hypothesis:\n",
    "\n",
    "Null Hypothesis (H0): There is no difference in sleep duration between individuals with high physical activity levels and those with low physical activity levels.\n",
    "Alternative Hypothesis (H1): Individuals with high physical activity levels have a significantly different sleep duration compared to those with low physical activity levels."
   ]
  },
  {
   "cell_type": "code",
   "execution_count": null,
   "id": "41576adb-dbc2-4595-bd3e-2fc7645fc549",
   "metadata": {},
   "outputs": [],
   "source": [
    "import pandas as pd\n",
    "import matplotlib.pyplot as plt\n",
    "!pip install scipy\n",
    "from scipy import stats\n",
    "from scipy.stats import ttest_ind\n"
   ]
  },
  {
   "cell_type": "code",
   "execution_count": 18,
   "id": "edf16593-4321-4288-ae0c-d52f839e7a98",
   "metadata": {},
   "outputs": [],
   "source": [
    "df = pd.read_csv(\"Sleep_health_and_lifestyle_dataset.csv\")"
   ]
  },
  {
   "cell_type": "code",
   "execution_count": 19,
   "id": "0046aef4-36f9-48a7-9978-4b41c191d1c0",
   "metadata": {},
   "outputs": [
    {
     "data": {
      "text/html": [
       "<div>\n",
       "<style scoped>\n",
       "    .dataframe tbody tr th:only-of-type {\n",
       "        vertical-align: middle;\n",
       "    }\n",
       "\n",
       "    .dataframe tbody tr th {\n",
       "        vertical-align: top;\n",
       "    }\n",
       "\n",
       "    .dataframe thead th {\n",
       "        text-align: right;\n",
       "    }\n",
       "</style>\n",
       "<table border=\"1\" class=\"dataframe\">\n",
       "  <thead>\n",
       "    <tr style=\"text-align: right;\">\n",
       "      <th></th>\n",
       "      <th>PersonID</th>\n",
       "      <th>Gender</th>\n",
       "      <th>Age</th>\n",
       "      <th>Occupation</th>\n",
       "      <th>SleepDuration</th>\n",
       "      <th>QualityofSleep</th>\n",
       "      <th>PhysicalActivityLevel</th>\n",
       "      <th>StressLevel</th>\n",
       "      <th>BMICategory</th>\n",
       "      <th>BloodPressure</th>\n",
       "      <th>HeartRate</th>\n",
       "      <th>DailySteps</th>\n",
       "      <th>SleepDisorder</th>\n",
       "      <th>MentalHealth</th>\n",
       "    </tr>\n",
       "  </thead>\n",
       "  <tbody>\n",
       "    <tr>\n",
       "      <th>0</th>\n",
       "      <td>1</td>\n",
       "      <td>Male</td>\n",
       "      <td>27</td>\n",
       "      <td>Software Engineer</td>\n",
       "      <td>6.1</td>\n",
       "      <td>6</td>\n",
       "      <td>42</td>\n",
       "      <td>6</td>\n",
       "      <td>Overweight</td>\n",
       "      <td>126/83</td>\n",
       "      <td>77</td>\n",
       "      <td>4200</td>\n",
       "      <td>NaN</td>\n",
       "      <td>Medium</td>\n",
       "    </tr>\n",
       "    <tr>\n",
       "      <th>1</th>\n",
       "      <td>2</td>\n",
       "      <td>Male</td>\n",
       "      <td>28</td>\n",
       "      <td>Doctor</td>\n",
       "      <td>6.2</td>\n",
       "      <td>6</td>\n",
       "      <td>60</td>\n",
       "      <td>8</td>\n",
       "      <td>Normal</td>\n",
       "      <td>125/80</td>\n",
       "      <td>75</td>\n",
       "      <td>10000</td>\n",
       "      <td>NaN</td>\n",
       "      <td>Low</td>\n",
       "    </tr>\n",
       "    <tr>\n",
       "      <th>2</th>\n",
       "      <td>3</td>\n",
       "      <td>Male</td>\n",
       "      <td>28</td>\n",
       "      <td>Doctor</td>\n",
       "      <td>6.2</td>\n",
       "      <td>6</td>\n",
       "      <td>60</td>\n",
       "      <td>8</td>\n",
       "      <td>Normal</td>\n",
       "      <td>125/80</td>\n",
       "      <td>75</td>\n",
       "      <td>10000</td>\n",
       "      <td>NaN</td>\n",
       "      <td>Low</td>\n",
       "    </tr>\n",
       "    <tr>\n",
       "      <th>3</th>\n",
       "      <td>4</td>\n",
       "      <td>Male</td>\n",
       "      <td>28</td>\n",
       "      <td>Sales Representative</td>\n",
       "      <td>5.9</td>\n",
       "      <td>4</td>\n",
       "      <td>30</td>\n",
       "      <td>8</td>\n",
       "      <td>Obese</td>\n",
       "      <td>140/90</td>\n",
       "      <td>85</td>\n",
       "      <td>3000</td>\n",
       "      <td>Sleep Apnea</td>\n",
       "      <td>Low</td>\n",
       "    </tr>\n",
       "    <tr>\n",
       "      <th>4</th>\n",
       "      <td>5</td>\n",
       "      <td>Male</td>\n",
       "      <td>28</td>\n",
       "      <td>Sales Representative</td>\n",
       "      <td>5.9</td>\n",
       "      <td>4</td>\n",
       "      <td>30</td>\n",
       "      <td>8</td>\n",
       "      <td>Obese</td>\n",
       "      <td>140/90</td>\n",
       "      <td>85</td>\n",
       "      <td>3000</td>\n",
       "      <td>Sleep Apnea</td>\n",
       "      <td>Low</td>\n",
       "    </tr>\n",
       "  </tbody>\n",
       "</table>\n",
       "</div>"
      ],
      "text/plain": [
       "   PersonID Gender  Age            Occupation  SleepDuration  QualityofSleep  \\\n",
       "0         1   Male   27     Software Engineer            6.1               6   \n",
       "1         2   Male   28                Doctor            6.2               6   \n",
       "2         3   Male   28                Doctor            6.2               6   \n",
       "3         4   Male   28  Sales Representative            5.9               4   \n",
       "4         5   Male   28  Sales Representative            5.9               4   \n",
       "\n",
       "   PhysicalActivityLevel  StressLevel BMICategory BloodPressure  HeartRate  \\\n",
       "0                     42            6  Overweight        126/83         77   \n",
       "1                     60            8      Normal        125/80         75   \n",
       "2                     60            8      Normal        125/80         75   \n",
       "3                     30            8       Obese        140/90         85   \n",
       "4                     30            8       Obese        140/90         85   \n",
       "\n",
       "   DailySteps SleepDisorder MentalHealth  \n",
       "0        4200           NaN       Medium  \n",
       "1       10000           NaN          Low  \n",
       "2       10000           NaN          Low  \n",
       "3        3000   Sleep Apnea          Low  \n",
       "4        3000   Sleep Apnea          Low  "
      ]
     },
     "execution_count": 19,
     "metadata": {},
     "output_type": "execute_result"
    }
   ],
   "source": [
    "df.head()"
   ]
  },
  {
   "cell_type": "code",
   "execution_count": null,
   "id": "8cfa39ae-7bd8-4925-9d0c-5f6cdae3ccad",
   "metadata": {},
   "outputs": [],
   "source": [
    "#Removing needles MentalHealth column & SleepDisorder NaN updating\n",
    "\n",
    "df = df.drop('MentalHealth', axis=1)\n",
    "df.fillna('None', inplace = True)\n"
   ]
  },
  {
   "cell_type": "code",
   "execution_count": 35,
   "id": "f0ed820d-8fb0-4b54-b273-242141efa2ac",
   "metadata": {},
   "outputs": [
    {
     "data": {
      "text/plain": [
       "0"
      ]
     },
     "execution_count": 35,
     "metadata": {},
     "output_type": "execute_result"
    }
   ],
   "source": [
    "#Duplicates checking\n",
    "\n",
    "df.duplicated(subset='PersonID').sum()"
   ]
  },
  {
   "cell_type": "code",
   "execution_count": null,
   "id": "df3cf719-95c2-4bfb-aa1b-4a53279f2bfb",
   "metadata": {},
   "outputs": [],
   "source": [
    "#To perform Test PhysicalActivityLevel need to be converted into two categories: Low&High"
   ]
  },
  {
   "cell_type": "code",
   "execution_count": 9,
   "id": "3f19d5cc-7648-4049-8ec2-0d6542a2ceab",
   "metadata": {},
   "outputs": [
    {
     "name": "stdout",
     "output_type": "stream",
     "text": [
      "90 30\n"
     ]
    }
   ],
   "source": [
    "# Max & min value\n",
    "maxPhysicalActivityLevel = df['PhysicalActivityLevel'].max()\n",
    "minPhysicalActivityLevel = df['PhysicalActivityLevel'].min()\n",
    "\n",
    "print(maxPhysicalActivityLevel, minPhysicalActivityLevel)\n"
   ]
  },
  {
   "cell_type": "code",
   "execution_count": null,
   "id": "4a8b3a47-1ccb-478e-85ba-154f7a5b1062",
   "metadata": {},
   "outputs": [],
   "source": [
    "#Testing Group"
   ]
  },
  {
   "cell_type": "code",
   "execution_count": 16,
   "id": "5a2a91a4-ed0e-4949-903a-b6f2cc3f8d8b",
   "metadata": {},
   "outputs": [],
   "source": [
    "def CategorizeActivityLevel(activityLevel):\n",
    "    if 30 <= activityLevel < 45:\n",
    "        return 'Low'\n",
    "    else:\n",
    "        return 'High'\n",
    "\n",
    "df['ActivityLevelCategory'] = df['PhysicalActivityLevel'].apply(CategorizeActivityLevel)\n"
   ]
  },
  {
   "cell_type": "code",
   "execution_count": 11,
   "id": "1baba929-761e-4ac0-9725-9dd264e784dd",
   "metadata": {},
   "outputs": [
    {
     "data": {
      "text/html": [
       "<div>\n",
       "<style scoped>\n",
       "    .dataframe tbody tr th:only-of-type {\n",
       "        vertical-align: middle;\n",
       "    }\n",
       "\n",
       "    .dataframe tbody tr th {\n",
       "        vertical-align: top;\n",
       "    }\n",
       "\n",
       "    .dataframe thead th {\n",
       "        text-align: right;\n",
       "    }\n",
       "</style>\n",
       "<table border=\"1\" class=\"dataframe\">\n",
       "  <thead>\n",
       "    <tr style=\"text-align: right;\">\n",
       "      <th></th>\n",
       "      <th>SleepDuration</th>\n",
       "      <th>ActivityLevelCategory</th>\n",
       "    </tr>\n",
       "  </thead>\n",
       "  <tbody>\n",
       "    <tr>\n",
       "      <th>0</th>\n",
       "      <td>6.1</td>\n",
       "      <td>Low</td>\n",
       "    </tr>\n",
       "    <tr>\n",
       "      <th>1</th>\n",
       "      <td>6.2</td>\n",
       "      <td>High</td>\n",
       "    </tr>\n",
       "    <tr>\n",
       "      <th>2</th>\n",
       "      <td>6.2</td>\n",
       "      <td>High</td>\n",
       "    </tr>\n",
       "    <tr>\n",
       "      <th>3</th>\n",
       "      <td>5.9</td>\n",
       "      <td>Low</td>\n",
       "    </tr>\n",
       "    <tr>\n",
       "      <th>4</th>\n",
       "      <td>5.9</td>\n",
       "      <td>Low</td>\n",
       "    </tr>\n",
       "  </tbody>\n",
       "</table>\n",
       "</div>"
      ],
      "text/plain": [
       "   SleepDuration ActivityLevelCategory\n",
       "0            6.1                   Low\n",
       "1            6.2                  High\n",
       "2            6.2                  High\n",
       "3            5.9                   Low\n",
       "4            5.9                   Low"
      ]
     },
     "execution_count": 11,
     "metadata": {},
     "output_type": "execute_result"
    }
   ],
   "source": [
    "df_cat = df[['SleepDuration', 'ActivityLevelCategory']]\n",
    "df_cat.head()"
   ]
  },
  {
   "cell_type": "code",
   "execution_count": 13,
   "id": "164c3c55-4615-4e37-ac43-87a9360279fe",
   "metadata": {},
   "outputs": [
    {
     "data": {
      "text/plain": [
       "SleepDuration            27\n",
       "ActivityLevelCategory     2\n",
       "dtype: int64"
      ]
     },
     "execution_count": 13,
     "metadata": {},
     "output_type": "execute_result"
    }
   ],
   "source": [
    "df_cat.nunique()"
   ]
  },
  {
   "cell_type": "code",
   "execution_count": 14,
   "id": "75c43506-3c1e-4005-ae7b-b12f2e87d4c4",
   "metadata": {},
   "outputs": [
    {
     "name": "stdout",
     "output_type": "stream",
     "text": [
      "SLEEPDURATION : [6.1 6.2 5.9 6.3 7.8 6.  6.5 7.6 7.7 7.9 6.4 7.5 7.2 5.8 6.7 7.3 7.4 7.1\n",
      " 6.6 6.9 8.  6.8 8.1 8.3 8.5 8.4 8.2]\n",
      "ACTIVITYLEVELCATEGORY : ['Low' 'High']\n"
     ]
    }
   ],
   "source": [
    "for i in df_cat.columns:\n",
    "    print(i.upper(), \":\",  df_cat[i].unique())"
   ]
  },
  {
   "cell_type": "code",
   "execution_count": 39,
   "id": "ff348085-f15f-4aad-80bc-6f169b94ec5f",
   "metadata": {},
   "outputs": [
    {
     "name": "stdout",
     "output_type": "stream",
     "text": [
      "T-Statistic: -1.1362671123093353\n",
      "P-Value: 0.2565762513004666\n",
      "There is no significant difference in sleep duration between high and low physical activity levels groups.\n"
     ]
    }
   ],
   "source": [
    "\n",
    "lowActivityGroup = df_cat[df_cat['ActivityLevelCategory'] == 'Low']['SleepDuration']\n",
    "highActivityGroup = df_cat[df_cat['ActivityLevelCategory'] == 'High']['SleepDuration']\n",
    "\n",
    "t_statistic, p_value = stats.ttest_ind(lowActivityGroup, highActivityGroup)\n",
    "\n",
    "print(f\"T-Statistic: {t_statistic}\")\n",
    "print(f\"P-Value: {p_value}\")\n",
    "\n",
    "alpha = 0.05\n",
    "if p_value < alpha:\n",
    "    print(\"There is a significant difference in sleep duration between high and low physical activity levels groups.\")\n",
    "else:\n",
    "    print(\"There is no significant difference in sleep duration between high and low physical activity levels groups.\")"
   ]
  },
  {
   "cell_type": "code",
   "execution_count": null,
   "id": "a429b256-82d7-4a47-8ec3-4b1d7d58f3c5",
   "metadata": {},
   "outputs": [],
   "source": []
  },
  {
   "cell_type": "code",
   "execution_count": null,
   "id": "c45bdafc-a126-43df-8b8e-423191150906",
   "metadata": {},
   "outputs": [],
   "source": []
  }
 ],
 "metadata": {
  "kernelspec": {
   "display_name": "Python 3 (ipykernel)",
   "language": "python",
   "name": "python3"
  },
  "language_info": {
   "codemirror_mode": {
    "name": "ipython",
    "version": 3
   },
   "file_extension": ".py",
   "mimetype": "text/x-python",
   "name": "python",
   "nbconvert_exporter": "python",
   "pygments_lexer": "ipython3",
   "version": "3.12.0"
  }
 },
 "nbformat": 4,
 "nbformat_minor": 5
}
