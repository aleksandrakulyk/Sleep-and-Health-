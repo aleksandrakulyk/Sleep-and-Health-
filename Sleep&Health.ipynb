{
 "cells": [
  {
   "cell_type": "code",
   "execution_count": null,
   "id": "b9d20fd1-fafc-4ae2-ab25-20b030d9bc1d",
   "metadata": {},
   "outputs": [],
   "source": [
    "#Load the dataframe"
   ]
  },
  {
   "cell_type": "code",
   "execution_count": 11,
   "id": "a747c218-4130-42a3-9b1a-2b010d575b55",
   "metadata": {},
   "outputs": [],
   "source": [
    "df = pd.read_csv(\"Sleep_health_and_lifestyle_dataset.csv\")"
   ]
  },
  {
   "cell_type": "code",
   "execution_count": 12,
   "id": "d9e0f9a1-f936-4162-98bb-29adecaa5b7e",
   "metadata": {},
   "outputs": [
    {
     "data": {
      "text/html": [
       "<div>\n",
       "<style scoped>\n",
       "    .dataframe tbody tr th:only-of-type {\n",
       "        vertical-align: middle;\n",
       "    }\n",
       "\n",
       "    .dataframe tbody tr th {\n",
       "        vertical-align: top;\n",
       "    }\n",
       "\n",
       "    .dataframe thead th {\n",
       "        text-align: right;\n",
       "    }\n",
       "</style>\n",
       "<table border=\"1\" class=\"dataframe\">\n",
       "  <thead>\n",
       "    <tr style=\"text-align: right;\">\n",
       "      <th></th>\n",
       "      <th>PersonID</th>\n",
       "      <th>Gender</th>\n",
       "      <th>Age</th>\n",
       "      <th>Occupation</th>\n",
       "      <th>SleepDuration</th>\n",
       "      <th>QualityofSleep</th>\n",
       "      <th>PhysicalActivityLevel</th>\n",
       "      <th>StressLevel</th>\n",
       "      <th>BMICategory</th>\n",
       "      <th>BloodPressure</th>\n",
       "      <th>HeartRate</th>\n",
       "      <th>DailySteps</th>\n",
       "      <th>SleepDisorder</th>\n",
       "      <th>MentalHealth</th>\n",
       "    </tr>\n",
       "  </thead>\n",
       "  <tbody>\n",
       "    <tr>\n",
       "      <th>0</th>\n",
       "      <td>1</td>\n",
       "      <td>Male</td>\n",
       "      <td>27</td>\n",
       "      <td>Software Engineer</td>\n",
       "      <td>6.1</td>\n",
       "      <td>6</td>\n",
       "      <td>42</td>\n",
       "      <td>6</td>\n",
       "      <td>Overweight</td>\n",
       "      <td>126/83</td>\n",
       "      <td>77</td>\n",
       "      <td>4200</td>\n",
       "      <td>NaN</td>\n",
       "      <td>Medium</td>\n",
       "    </tr>\n",
       "    <tr>\n",
       "      <th>1</th>\n",
       "      <td>2</td>\n",
       "      <td>Male</td>\n",
       "      <td>28</td>\n",
       "      <td>Doctor</td>\n",
       "      <td>6.2</td>\n",
       "      <td>6</td>\n",
       "      <td>60</td>\n",
       "      <td>8</td>\n",
       "      <td>Normal</td>\n",
       "      <td>125/80</td>\n",
       "      <td>75</td>\n",
       "      <td>10000</td>\n",
       "      <td>NaN</td>\n",
       "      <td>Low</td>\n",
       "    </tr>\n",
       "    <tr>\n",
       "      <th>2</th>\n",
       "      <td>3</td>\n",
       "      <td>Male</td>\n",
       "      <td>28</td>\n",
       "      <td>Doctor</td>\n",
       "      <td>6.2</td>\n",
       "      <td>6</td>\n",
       "      <td>60</td>\n",
       "      <td>8</td>\n",
       "      <td>Normal</td>\n",
       "      <td>125/80</td>\n",
       "      <td>75</td>\n",
       "      <td>10000</td>\n",
       "      <td>NaN</td>\n",
       "      <td>Low</td>\n",
       "    </tr>\n",
       "    <tr>\n",
       "      <th>3</th>\n",
       "      <td>4</td>\n",
       "      <td>Male</td>\n",
       "      <td>28</td>\n",
       "      <td>Sales Representative</td>\n",
       "      <td>5.9</td>\n",
       "      <td>4</td>\n",
       "      <td>30</td>\n",
       "      <td>8</td>\n",
       "      <td>Obese</td>\n",
       "      <td>140/90</td>\n",
       "      <td>85</td>\n",
       "      <td>3000</td>\n",
       "      <td>Sleep Apnea</td>\n",
       "      <td>Low</td>\n",
       "    </tr>\n",
       "    <tr>\n",
       "      <th>4</th>\n",
       "      <td>5</td>\n",
       "      <td>Male</td>\n",
       "      <td>28</td>\n",
       "      <td>Sales Representative</td>\n",
       "      <td>5.9</td>\n",
       "      <td>4</td>\n",
       "      <td>30</td>\n",
       "      <td>8</td>\n",
       "      <td>Obese</td>\n",
       "      <td>140/90</td>\n",
       "      <td>85</td>\n",
       "      <td>3000</td>\n",
       "      <td>Sleep Apnea</td>\n",
       "      <td>Low</td>\n",
       "    </tr>\n",
       "  </tbody>\n",
       "</table>\n",
       "</div>"
      ],
      "text/plain": [
       "   PersonID Gender  Age            Occupation  SleepDuration  QualityofSleep  \\\n",
       "0         1   Male   27     Software Engineer            6.1               6   \n",
       "1         2   Male   28                Doctor            6.2               6   \n",
       "2         3   Male   28                Doctor            6.2               6   \n",
       "3         4   Male   28  Sales Representative            5.9               4   \n",
       "4         5   Male   28  Sales Representative            5.9               4   \n",
       "\n",
       "   PhysicalActivityLevel  StressLevel BMICategory BloodPressure  HeartRate  \\\n",
       "0                     42            6  Overweight        126/83         77   \n",
       "1                     60            8      Normal        125/80         75   \n",
       "2                     60            8      Normal        125/80         75   \n",
       "3                     30            8       Obese        140/90         85   \n",
       "4                     30            8       Obese        140/90         85   \n",
       "\n",
       "   DailySteps SleepDisorder MentalHealth  \n",
       "0        4200           NaN       Medium  \n",
       "1       10000           NaN          Low  \n",
       "2       10000           NaN          Low  \n",
       "3        3000   Sleep Apnea          Low  \n",
       "4        3000   Sleep Apnea          Low  "
      ]
     },
     "execution_count": 12,
     "metadata": {},
     "output_type": "execute_result"
    }
   ],
   "source": [
    "df.head()"
   ]
  },
  {
   "cell_type": "code",
   "execution_count": null,
   "id": "d28add78-0419-4479-8a58-d04928d6058e",
   "metadata": {},
   "outputs": [],
   "source": [
    "#Removing needles MentalHealth column"
   ]
  },
  {
   "cell_type": "code",
   "execution_count": 13,
   "id": "bc6916da-cf04-46f7-a67f-6563e4d0277c",
   "metadata": {},
   "outputs": [],
   "source": [
    "df = df.drop('MentalHealth', axis=1)"
   ]
  },
  {
   "cell_type": "code",
   "execution_count": null,
   "id": "f4fcba37-99d7-4feb-9709-b9165172c980",
   "metadata": {},
   "outputs": [],
   "source": [
    "#SleepDisorder NaN updating"
   ]
  },
  {
   "cell_type": "code",
   "execution_count": 14,
   "id": "71be9464-9d1f-449b-8d9f-83711796c7a2",
   "metadata": {},
   "outputs": [],
   "source": [
    "df.fillna('None', inplace = True)"
   ]
  },
  {
   "cell_type": "code",
   "execution_count": 15,
   "id": "65dd9242-f4fa-40a6-b3d9-0f63ba47df6e",
   "metadata": {},
   "outputs": [
    {
     "data": {
      "text/html": [
       "<div>\n",
       "<style scoped>\n",
       "    .dataframe tbody tr th:only-of-type {\n",
       "        vertical-align: middle;\n",
       "    }\n",
       "\n",
       "    .dataframe tbody tr th {\n",
       "        vertical-align: top;\n",
       "    }\n",
       "\n",
       "    .dataframe thead th {\n",
       "        text-align: right;\n",
       "    }\n",
       "</style>\n",
       "<table border=\"1\" class=\"dataframe\">\n",
       "  <thead>\n",
       "    <tr style=\"text-align: right;\">\n",
       "      <th></th>\n",
       "      <th>PersonID</th>\n",
       "      <th>Gender</th>\n",
       "      <th>Age</th>\n",
       "      <th>Occupation</th>\n",
       "      <th>SleepDuration</th>\n",
       "      <th>QualityofSleep</th>\n",
       "      <th>PhysicalActivityLevel</th>\n",
       "      <th>StressLevel</th>\n",
       "      <th>BMICategory</th>\n",
       "      <th>BloodPressure</th>\n",
       "      <th>HeartRate</th>\n",
       "      <th>DailySteps</th>\n",
       "      <th>SleepDisorder</th>\n",
       "    </tr>\n",
       "  </thead>\n",
       "  <tbody>\n",
       "    <tr>\n",
       "      <th>0</th>\n",
       "      <td>1</td>\n",
       "      <td>Male</td>\n",
       "      <td>27</td>\n",
       "      <td>Software Engineer</td>\n",
       "      <td>6.1</td>\n",
       "      <td>6</td>\n",
       "      <td>42</td>\n",
       "      <td>6</td>\n",
       "      <td>Overweight</td>\n",
       "      <td>126/83</td>\n",
       "      <td>77</td>\n",
       "      <td>4200</td>\n",
       "      <td>None</td>\n",
       "    </tr>\n",
       "    <tr>\n",
       "      <th>1</th>\n",
       "      <td>2</td>\n",
       "      <td>Male</td>\n",
       "      <td>28</td>\n",
       "      <td>Doctor</td>\n",
       "      <td>6.2</td>\n",
       "      <td>6</td>\n",
       "      <td>60</td>\n",
       "      <td>8</td>\n",
       "      <td>Normal</td>\n",
       "      <td>125/80</td>\n",
       "      <td>75</td>\n",
       "      <td>10000</td>\n",
       "      <td>None</td>\n",
       "    </tr>\n",
       "    <tr>\n",
       "      <th>2</th>\n",
       "      <td>3</td>\n",
       "      <td>Male</td>\n",
       "      <td>28</td>\n",
       "      <td>Doctor</td>\n",
       "      <td>6.2</td>\n",
       "      <td>6</td>\n",
       "      <td>60</td>\n",
       "      <td>8</td>\n",
       "      <td>Normal</td>\n",
       "      <td>125/80</td>\n",
       "      <td>75</td>\n",
       "      <td>10000</td>\n",
       "      <td>None</td>\n",
       "    </tr>\n",
       "    <tr>\n",
       "      <th>3</th>\n",
       "      <td>4</td>\n",
       "      <td>Male</td>\n",
       "      <td>28</td>\n",
       "      <td>Sales Representative</td>\n",
       "      <td>5.9</td>\n",
       "      <td>4</td>\n",
       "      <td>30</td>\n",
       "      <td>8</td>\n",
       "      <td>Obese</td>\n",
       "      <td>140/90</td>\n",
       "      <td>85</td>\n",
       "      <td>3000</td>\n",
       "      <td>Sleep Apnea</td>\n",
       "    </tr>\n",
       "    <tr>\n",
       "      <th>4</th>\n",
       "      <td>5</td>\n",
       "      <td>Male</td>\n",
       "      <td>28</td>\n",
       "      <td>Sales Representative</td>\n",
       "      <td>5.9</td>\n",
       "      <td>4</td>\n",
       "      <td>30</td>\n",
       "      <td>8</td>\n",
       "      <td>Obese</td>\n",
       "      <td>140/90</td>\n",
       "      <td>85</td>\n",
       "      <td>3000</td>\n",
       "      <td>Sleep Apnea</td>\n",
       "    </tr>\n",
       "  </tbody>\n",
       "</table>\n",
       "</div>"
      ],
      "text/plain": [
       "   PersonID Gender  Age            Occupation  SleepDuration  QualityofSleep  \\\n",
       "0         1   Male   27     Software Engineer            6.1               6   \n",
       "1         2   Male   28                Doctor            6.2               6   \n",
       "2         3   Male   28                Doctor            6.2               6   \n",
       "3         4   Male   28  Sales Representative            5.9               4   \n",
       "4         5   Male   28  Sales Representative            5.9               4   \n",
       "\n",
       "   PhysicalActivityLevel  StressLevel BMICategory BloodPressure  HeartRate  \\\n",
       "0                     42            6  Overweight        126/83         77   \n",
       "1                     60            8      Normal        125/80         75   \n",
       "2                     60            8      Normal        125/80         75   \n",
       "3                     30            8       Obese        140/90         85   \n",
       "4                     30            8       Obese        140/90         85   \n",
       "\n",
       "   DailySteps SleepDisorder  \n",
       "0        4200          None  \n",
       "1       10000          None  \n",
       "2       10000          None  \n",
       "3        3000   Sleep Apnea  \n",
       "4        3000   Sleep Apnea  "
      ]
     },
     "execution_count": 15,
     "metadata": {},
     "output_type": "execute_result"
    }
   ],
   "source": [
    "df.head()"
   ]
  },
  {
   "cell_type": "code",
   "execution_count": null,
   "id": "d951b0fe-7d26-49c9-ad04-36c0b47e45dc",
   "metadata": {},
   "outputs": [],
   "source": [
    "#Checking if any missing values left"
   ]
  },
  {
   "cell_type": "code",
   "execution_count": 16,
   "id": "d6535ceb-f3c0-4e8f-9ae5-eb2a176215b3",
   "metadata": {},
   "outputs": [
    {
     "data": {
      "text/plain": [
       "PersonID                 0\n",
       "Gender                   0\n",
       "Age                      0\n",
       "Occupation               0\n",
       "SleepDuration            0\n",
       "QualityofSleep           0\n",
       "PhysicalActivityLevel    0\n",
       "StressLevel              0\n",
       "BMICategory              0\n",
       "BloodPressure            0\n",
       "HeartRate                0\n",
       "DailySteps               0\n",
       "SleepDisorder            0\n",
       "dtype: int64"
      ]
     },
     "execution_count": 16,
     "metadata": {},
     "output_type": "execute_result"
    }
   ],
   "source": [
    "df.isnull().sum()"
   ]
  },
  {
   "cell_type": "code",
   "execution_count": null,
   "id": "f1486449-b7a3-4675-8678-72c70d4f5826",
   "metadata": {},
   "outputs": [],
   "source": [
    "#Duplicates identiyfing"
   ]
  },
  {
   "cell_type": "code",
   "execution_count": 17,
   "id": "33d70532-d535-4523-9d57-c761f0a90386",
   "metadata": {},
   "outputs": [
    {
     "data": {
      "text/plain": [
       "0      False\n",
       "1      False\n",
       "2      False\n",
       "3      False\n",
       "4      False\n",
       "       ...  \n",
       "369    False\n",
       "370    False\n",
       "371    False\n",
       "372    False\n",
       "373    False\n",
       "Length: 374, dtype: bool"
      ]
     },
     "execution_count": 17,
     "metadata": {},
     "output_type": "execute_result"
    }
   ],
   "source": [
    "df.duplicated()"
   ]
  },
  {
   "cell_type": "code",
   "execution_count": null,
   "id": "7a66c4aa-7757-4bfc-a8ce-92e186ec4197",
   "metadata": {},
   "outputs": [],
   "source": [
    "#Avg SleepDuration was presented on the histogram"
   ]
  },
  {
   "cell_type": "code",
   "execution_count": 30,
   "id": "d2d3048f-df39-4e9d-86b3-c3d04db48b71",
   "metadata": {},
   "outputs": [
    {
     "data": {
      "image/png": "[encoded data removed]",
      "text/plain": [
       "<Figure size 640x480 with 1 Axes>"
      ]
     },
     "metadata": {},
     "output_type": "display_data"
    }
   ],
   "source": [
    "df['SleepDuration'].plot(kind='hist', bins=10, title='Histogram of Sleep Duration')\n",
    "plt.xlabel('Sleep Duration (hours)')\n",
    "plt.ylabel('Frequency')\n",
    "plt.show()"
   ]
  },
  {
   "cell_type": "code",
   "execution_count": null,
   "id": "ef7ee534-c58a-4415-8bfd-6ac1a41b816b",
   "metadata": {},
   "outputs": [],
   "source": [
    "#Average sleep duration was calculated for study group based on Occupation, Gender & Age"
   ]
  },
  {
   "cell_type": "code",
   "execution_count": 20,
   "id": "b9bcc48e-efa7-4171-acbc-fddd53877532",
   "metadata": {},
   "outputs": [
    {
     "name": "stdout",
     "output_type": "stream",
     "text": [
      "Gender\n",
      "Female    7.23\n",
      "Male      7.04\n",
      "Name: SleepDuration, dtype: float64\n"
     ]
    }
   ],
   "source": [
    "avgGender = round(df.groupby('Gender')['SleepDuration'].mean(),2)\n",
    "df['AvgSleepDuration'] = df['Gender'].map(avgGender)\n",
    "print(avgGender)"
   ]
  },
  {
   "cell_type": "code",
   "execution_count": 58,
   "id": "b2553d6f-31c6-4bfe-80c7-e316cb8717d3",
   "metadata": {},
   "outputs": [
    {
     "name": "stdout",
     "output_type": "stream",
     "text": [
      "Occupation\n",
      "Accountant              7.11\n",
      "Doctor                  6.97\n",
      "Engineer                7.99\n",
      "Lawyer                  7.41\n",
      "Manager                 6.90\n",
      "Nurse                   7.06\n",
      "Sales Representative    5.90\n",
      "Salesperson             6.40\n",
      "Scientist               6.00\n",
      "Software Engineer       6.75\n",
      "Teacher                 6.69\n",
      "Name: SleepDuration, dtype: float64\n"
     ]
    }
   ],
   "source": [
    "avgOccupation = round(df.groupby('Occupation')['SleepDuration'].mean(),2)\n",
    "df['AvgSleepDuration'] = df['Occupation'].map(avgOccupation)\n",
    "print(avgOccupation)"
   ]
  },
  {
   "cell_type": "code",
   "execution_count": null,
   "id": "a1df9ee5-9b32-4d34-bcad-7dabcc648f71",
   "metadata": {},
   "outputs": [],
   "source": [
    "#Age was divided into groups based on max&min values"
   ]
  },
  {
   "cell_type": "code",
   "execution_count": 23,
   "id": "9b9e9d5b-0934-466e-ae6d-7b77c6d1d165",
   "metadata": {},
   "outputs": [
    {
     "name": "stdout",
     "output_type": "stream",
     "text": [
      "59 27\n"
     ]
    }
   ],
   "source": [
    "maxAge = df['Age'].max()\n",
    "minAge = df['Age'].min()\n",
    "\n",
    "print(maxAge, minAge)\n"
   ]
  },
  {
   "cell_type": "code",
   "execution_count": 24,
   "id": "0345647f-d572-49a8-88d2-7d8f9ac67fd2",
   "metadata": {},
   "outputs": [
    {
     "data": {
      "text/html": [
       "<div>\n",
       "<style scoped>\n",
       "    .dataframe tbody tr th:only-of-type {\n",
       "        vertical-align: middle;\n",
       "    }\n",
       "\n",
       "    .dataframe tbody tr th {\n",
       "        vertical-align: top;\n",
       "    }\n",
       "\n",
       "    .dataframe thead th {\n",
       "        text-align: right;\n",
       "    }\n",
       "</style>\n",
       "<table border=\"1\" class=\"dataframe\">\n",
       "  <thead>\n",
       "    <tr style=\"text-align: right;\">\n",
       "      <th></th>\n",
       "      <th>PersonID</th>\n",
       "      <th>Gender</th>\n",
       "      <th>Age</th>\n",
       "      <th>Occupation</th>\n",
       "      <th>SleepDuration</th>\n",
       "      <th>QualityofSleep</th>\n",
       "      <th>PhysicalActivityLevel</th>\n",
       "      <th>StressLevel</th>\n",
       "      <th>BMICategory</th>\n",
       "      <th>BloodPressure</th>\n",
       "      <th>HeartRate</th>\n",
       "      <th>DailySteps</th>\n",
       "      <th>SleepDisorder</th>\n",
       "      <th>AvgSleepDuration</th>\n",
       "      <th>AgeCategory</th>\n",
       "    </tr>\n",
       "  </thead>\n",
       "  <tbody>\n",
       "    <tr>\n",
       "      <th>0</th>\n",
       "      <td>1</td>\n",
       "      <td>Male</td>\n",
       "      <td>27</td>\n",
       "      <td>Software Engineer</td>\n",
       "      <td>6.1</td>\n",
       "      <td>6</td>\n",
       "      <td>42</td>\n",
       "      <td>6</td>\n",
       "      <td>Overweight</td>\n",
       "      <td>126/83</td>\n",
       "      <td>77</td>\n",
       "      <td>4200</td>\n",
       "      <td>None</td>\n",
       "      <td>7.04</td>\n",
       "      <td>27-34</td>\n",
       "    </tr>\n",
       "    <tr>\n",
       "      <th>1</th>\n",
       "      <td>2</td>\n",
       "      <td>Male</td>\n",
       "      <td>28</td>\n",
       "      <td>Doctor</td>\n",
       "      <td>6.2</td>\n",
       "      <td>6</td>\n",
       "      <td>60</td>\n",
       "      <td>8</td>\n",
       "      <td>Normal</td>\n",
       "      <td>125/80</td>\n",
       "      <td>75</td>\n",
       "      <td>10000</td>\n",
       "      <td>None</td>\n",
       "      <td>7.04</td>\n",
       "      <td>27-34</td>\n",
       "    </tr>\n",
       "    <tr>\n",
       "      <th>2</th>\n",
       "      <td>3</td>\n",
       "      <td>Male</td>\n",
       "      <td>28</td>\n",
       "      <td>Doctor</td>\n",
       "      <td>6.2</td>\n",
       "      <td>6</td>\n",
       "      <td>60</td>\n",
       "      <td>8</td>\n",
       "      <td>Normal</td>\n",
       "      <td>125/80</td>\n",
       "      <td>75</td>\n",
       "      <td>10000</td>\n",
       "      <td>None</td>\n",
       "      <td>7.04</td>\n",
       "      <td>27-34</td>\n",
       "    </tr>\n",
       "    <tr>\n",
       "      <th>3</th>\n",
       "      <td>4</td>\n",
       "      <td>Male</td>\n",
       "      <td>28</td>\n",
       "      <td>Sales Representative</td>\n",
       "      <td>5.9</td>\n",
       "      <td>4</td>\n",
       "      <td>30</td>\n",
       "      <td>8</td>\n",
       "      <td>Obese</td>\n",
       "      <td>140/90</td>\n",
       "      <td>85</td>\n",
       "      <td>3000</td>\n",
       "      <td>Sleep Apnea</td>\n",
       "      <td>7.04</td>\n",
       "      <td>27-34</td>\n",
       "    </tr>\n",
       "    <tr>\n",
       "      <th>4</th>\n",
       "      <td>5</td>\n",
       "      <td>Male</td>\n",
       "      <td>28</td>\n",
       "      <td>Sales Representative</td>\n",
       "      <td>5.9</td>\n",
       "      <td>4</td>\n",
       "      <td>30</td>\n",
       "      <td>8</td>\n",
       "      <td>Obese</td>\n",
       "      <td>140/90</td>\n",
       "      <td>85</td>\n",
       "      <td>3000</td>\n",
       "      <td>Sleep Apnea</td>\n",
       "      <td>7.04</td>\n",
       "      <td>27-34</td>\n",
       "    </tr>\n",
       "  </tbody>\n",
       "</table>\n",
       "</div>"
      ],
      "text/plain": [
       "   PersonID Gender  Age            Occupation  SleepDuration  QualityofSleep  \\\n",
       "0         1   Male   27     Software Engineer            6.1               6   \n",
       "1         2   Male   28                Doctor            6.2               6   \n",
       "2         3   Male   28                Doctor            6.2               6   \n",
       "3         4   Male   28  Sales Representative            5.9               4   \n",
       "4         5   Male   28  Sales Representative            5.9               4   \n",
       "\n",
       "   PhysicalActivityLevel  StressLevel BMICategory BloodPressure  HeartRate  \\\n",
       "0                     42            6  Overweight        126/83         77   \n",
       "1                     60            8      Normal        125/80         75   \n",
       "2                     60            8      Normal        125/80         75   \n",
       "3                     30            8       Obese        140/90         85   \n",
       "4                     30            8       Obese        140/90         85   \n",
       "\n",
       "   DailySteps SleepDisorder  AvgSleepDuration AgeCategory  \n",
       "0        4200          None              7.04       27-34  \n",
       "1       10000          None              7.04       27-34  \n",
       "2       10000          None              7.04       27-34  \n",
       "3        3000   Sleep Apnea              7.04       27-34  \n",
       "4        3000   Sleep Apnea              7.04       27-34  "
      ]
     },
     "execution_count": 24,
     "metadata": {},
     "output_type": "execute_result"
    }
   ],
   "source": [
    "def CategorizeAge(age):\n",
    "    if 27 <= age < 35:\n",
    "        return '27-34'\n",
    "    elif 35 <= age < 45:\n",
    "        return '35-44'\n",
    "    else:\n",
    "        return '45-57'\n",
    "\n",
    "df['AgeCategory'] = df['Age'].apply(CategorizeAge)\n",
    "\n",
    "df.head()"
   ]
  },
  {
   "cell_type": "code",
   "execution_count": 47,
   "id": "474d5b7f-4edb-4f1c-87f3-75520175fff6",
   "metadata": {},
   "outputs": [
    {
     "name": "stdout",
     "output_type": "stream",
     "text": [
      "AgeCategory\n",
      "27-34    6.8\n",
      "35-44    7.1\n",
      "45-57    7.4\n",
      "Name: SleepDuration, dtype: float64\n"
     ]
    }
   ],
   "source": [
    "avgAge = round(df.groupby('AgeCategory')['SleepDuration'].mean(),2)\n",
    "df['AvgSleepDuration'] = df['AgeCategory'].map(avgAge)\n",
    "print(avgAge)\n",
    "\n"
   ]
  },
  {
   "cell_type": "code",
   "execution_count": null,
   "id": "4f44a873-d2dd-45dd-b5c1-5b6d2611fb5c",
   "metadata": {},
   "outputs": [],
   "source": [
    "#Considering Blood Pressure as key element of healthy lifestyle and including WHO gouidlines Blood Pressure was classified into 4 categories:\n",
    "#optional, normal, high-normal,  and hypertension."
   ]
  },
  {
   "cell_type": "code",
   "execution_count": 25,
   "id": "78cbff5d-8f26-40ed-8d2f-728026790d5e",
   "metadata": {},
   "outputs": [
    {
     "data": {
      "text/html": [
       "<div>\n",
       "<style scoped>\n",
       "    .dataframe tbody tr th:only-of-type {\n",
       "        vertical-align: middle;\n",
       "    }\n",
       "\n",
       "    .dataframe tbody tr th {\n",
       "        vertical-align: top;\n",
       "    }\n",
       "\n",
       "    .dataframe thead th {\n",
       "        text-align: right;\n",
       "    }\n",
       "</style>\n",
       "<table border=\"1\" class=\"dataframe\">\n",
       "  <thead>\n",
       "    <tr style=\"text-align: right;\">\n",
       "      <th></th>\n",
       "      <th>PersonID</th>\n",
       "      <th>Gender</th>\n",
       "      <th>Age</th>\n",
       "      <th>Occupation</th>\n",
       "      <th>SleepDuration</th>\n",
       "      <th>QualityofSleep</th>\n",
       "      <th>PhysicalActivityLevel</th>\n",
       "      <th>StressLevel</th>\n",
       "      <th>BMICategory</th>\n",
       "      <th>BloodPressure</th>\n",
       "      <th>HeartRate</th>\n",
       "      <th>DailySteps</th>\n",
       "      <th>SleepDisorder</th>\n",
       "      <th>AvgSleepDuration</th>\n",
       "      <th>AgeCategory</th>\n",
       "      <th>BloodPressureCategory</th>\n",
       "    </tr>\n",
       "  </thead>\n",
       "  <tbody>\n",
       "    <tr>\n",
       "      <th>0</th>\n",
       "      <td>1</td>\n",
       "      <td>Male</td>\n",
       "      <td>27</td>\n",
       "      <td>Software Engineer</td>\n",
       "      <td>6.1</td>\n",
       "      <td>6</td>\n",
       "      <td>42</td>\n",
       "      <td>6</td>\n",
       "      <td>Overweight</td>\n",
       "      <td>126/83</td>\n",
       "      <td>77</td>\n",
       "      <td>4200</td>\n",
       "      <td>None</td>\n",
       "      <td>7.04</td>\n",
       "      <td>27-34</td>\n",
       "      <td>Normal</td>\n",
       "    </tr>\n",
       "    <tr>\n",
       "      <th>1</th>\n",
       "      <td>2</td>\n",
       "      <td>Male</td>\n",
       "      <td>28</td>\n",
       "      <td>Doctor</td>\n",
       "      <td>6.2</td>\n",
       "      <td>6</td>\n",
       "      <td>60</td>\n",
       "      <td>8</td>\n",
       "      <td>Normal</td>\n",
       "      <td>125/80</td>\n",
       "      <td>75</td>\n",
       "      <td>10000</td>\n",
       "      <td>None</td>\n",
       "      <td>7.04</td>\n",
       "      <td>27-34</td>\n",
       "      <td>Normal</td>\n",
       "    </tr>\n",
       "    <tr>\n",
       "      <th>2</th>\n",
       "      <td>3</td>\n",
       "      <td>Male</td>\n",
       "      <td>28</td>\n",
       "      <td>Doctor</td>\n",
       "      <td>6.2</td>\n",
       "      <td>6</td>\n",
       "      <td>60</td>\n",
       "      <td>8</td>\n",
       "      <td>Normal</td>\n",
       "      <td>125/80</td>\n",
       "      <td>75</td>\n",
       "      <td>10000</td>\n",
       "      <td>None</td>\n",
       "      <td>7.04</td>\n",
       "      <td>27-34</td>\n",
       "      <td>Normal</td>\n",
       "    </tr>\n",
       "    <tr>\n",
       "      <th>3</th>\n",
       "      <td>4</td>\n",
       "      <td>Male</td>\n",
       "      <td>28</td>\n",
       "      <td>Sales Representative</td>\n",
       "      <td>5.9</td>\n",
       "      <td>4</td>\n",
       "      <td>30</td>\n",
       "      <td>8</td>\n",
       "      <td>Obese</td>\n",
       "      <td>140/90</td>\n",
       "      <td>85</td>\n",
       "      <td>3000</td>\n",
       "      <td>Sleep Apnea</td>\n",
       "      <td>7.04</td>\n",
       "      <td>27-34</td>\n",
       "      <td>Hypertension</td>\n",
       "    </tr>\n",
       "    <tr>\n",
       "      <th>4</th>\n",
       "      <td>5</td>\n",
       "      <td>Male</td>\n",
       "      <td>28</td>\n",
       "      <td>Sales Representative</td>\n",
       "      <td>5.9</td>\n",
       "      <td>4</td>\n",
       "      <td>30</td>\n",
       "      <td>8</td>\n",
       "      <td>Obese</td>\n",
       "      <td>140/90</td>\n",
       "      <td>85</td>\n",
       "      <td>3000</td>\n",
       "      <td>Sleep Apnea</td>\n",
       "      <td>7.04</td>\n",
       "      <td>27-34</td>\n",
       "      <td>Hypertension</td>\n",
       "    </tr>\n",
       "  </tbody>\n",
       "</table>\n",
       "</div>"
      ],
      "text/plain": [
       "   PersonID Gender  Age            Occupation  SleepDuration  QualityofSleep  \\\n",
       "0         1   Male   27     Software Engineer            6.1               6   \n",
       "1         2   Male   28                Doctor            6.2               6   \n",
       "2         3   Male   28                Doctor            6.2               6   \n",
       "3         4   Male   28  Sales Representative            5.9               4   \n",
       "4         5   Male   28  Sales Representative            5.9               4   \n",
       "\n",
       "   PhysicalActivityLevel  StressLevel BMICategory BloodPressure  HeartRate  \\\n",
       "0                     42            6  Overweight        126/83         77   \n",
       "1                     60            8      Normal        125/80         75   \n",
       "2                     60            8      Normal        125/80         75   \n",
       "3                     30            8       Obese        140/90         85   \n",
       "4                     30            8       Obese        140/90         85   \n",
       "\n",
       "   DailySteps SleepDisorder  AvgSleepDuration AgeCategory  \\\n",
       "0        4200          None              7.04       27-34   \n",
       "1       10000          None              7.04       27-34   \n",
       "2       10000          None              7.04       27-34   \n",
       "3        3000   Sleep Apnea              7.04       27-34   \n",
       "4        3000   Sleep Apnea              7.04       27-34   \n",
       "\n",
       "  BloodPressureCategory  \n",
       "0                Normal  \n",
       "1                Normal  \n",
       "2                Normal  \n",
       "3          Hypertension  \n",
       "4          Hypertension  "
      ]
     },
     "execution_count": 25,
     "metadata": {},
     "output_type": "execute_result"
    }
   ],
   "source": [
    "df['Systolic'] = df['BloodPressure'].str[:3]\n",
    "df['Diastolic'] = df['BloodPressure'].str[4:]\n",
    "\n",
    "df['Systolic'] = pd.to_numeric(df['Systolic'])\n",
    "df['Diastolic'] = pd.to_numeric(df['Diastolic'])\n",
    "\n",
    "def CategorizeBloodPressure(systolic, diastolic):\n",
    "    if systolic < 120 and diastolic < 79:\n",
    "        return 'Optimal'\n",
    "    elif (120 <= systolic <= 129) and (79 <= diastolic <= 85):\n",
    "        return 'Normal'\n",
    "    elif (130 <= systolic <= 139) and (85 <= diastolic <= 90):\n",
    "        return 'High-Normal'\n",
    "    else:\n",
    "        return 'Hypertension'\n",
    "\n",
    "df['BloodPressureCategory'] = df.apply(lambda x: CategorizeBloodPressure(x['Systolic'], x['Diastolic']), axis=1)\n",
    "\n",
    "df = df.drop('Systolic', axis=1)\n",
    "df = df.drop('Diastolic', axis=1)\n",
    "\n",
    "df.head()"
   ]
  },
  {
   "cell_type": "code",
   "execution_count": 26,
   "id": "b453be6e-6da7-4db2-b69d-419ba873d787",
   "metadata": {},
   "outputs": [
    {
     "name": "stdout",
     "output_type": "stream",
     "text": [
      "BloodPressureCategory\n",
      "High-Normal     5.56\n",
      "Hypertension    5.53\n",
      "Normal          5.53\n",
      "Optimal         4.12\n",
      "Name: StressLevel, dtype: float64\n"
     ]
    }
   ],
   "source": [
    "avgStressLevel = round(df.groupby('BloodPressureCategory')['StressLevel'].mean(),2)\n",
    "df['AvgStressLevel'] = df['StressLevel'].map(avgStressLevel)\n",
    "print(avgStressLevel)"
   ]
  },
  {
   "cell_type": "code",
   "execution_count": 27,
   "id": "d9a0d636-4762-4e1a-ad8c-52e4e3b1ebe7",
   "metadata": {},
   "outputs": [
    {
     "name": "stdout",
     "output_type": "stream",
     "text": [
      "BloodPressureCategory\n",
      "High-Normal     58.0\n",
      "Hypertension    79.0\n",
      "Normal          47.0\n",
      "Optimal         62.0\n",
      "Name: PhysicalActivityLevel, dtype: float64\n"
     ]
    }
   ],
   "source": [
    "avgPhysicalActivityLevel = df.groupby('BloodPressureCategory')['PhysicalActivityLevel'].mean().round()\n",
    "df['AvgPhysicalActivityLevel'] = df['PhysicalActivityLevel'].map(avgPhysicalActivityLevel )\n",
    "print(avgPhysicalActivityLevel )"
   ]
  },
  {
   "cell_type": "code",
   "execution_count": null,
   "id": "67e88314-5939-4735-8fe2-0a5627501edf",
   "metadata": {},
   "outputs": [],
   "source": [
    "#How stress affects Quality of Sleep was presented on a scatter plot"
   ]
  },
  {
   "cell_type": "code",
   "execution_count": 33,
   "id": "81b0ef84-1f36-4978-bde8-93089c1c010e",
   "metadata": {},
   "outputs": [
    {
     "data": {
      "image/png": "[encoded data removed]",
      "text/plain": [
       "<Figure size 640x480 with 1 Axes>"
      ]
     },
     "metadata": {},
     "output_type": "display_data"
    }
   ],
   "source": [
    "df.plot(kind = 'scatter', x = 'QualityofSleep', y = 'StressLevel')\n",
    "plt.show()"
   ]
  },
  {
   "cell_type": "code",
   "execution_count": null,
   "id": "edec8d22-0ba1-4ab8-b584-0f34acce0a1a",
   "metadata": {},
   "outputs": [],
   "source": [
    "#How Physical Activity affects Quality of Sleep was presented on a scatter plot"
   ]
  },
  {
   "cell_type": "code",
   "execution_count": 43,
   "id": "65e5bfca-4832-4aa8-be5c-37fe77c3e2b2",
   "metadata": {},
   "outputs": [
    {
     "data": {
      "image/png": "[encoded data removed]",
      "text/plain": [
       "<Figure size 640x480 with 1 Axes>"
      ]
     },
     "metadata": {},
     "output_type": "display_data"
    }
   ],
   "source": [
    "df.plot(kind = 'scatter', x = 'QualityofSleep', y = 'PhysicalActivityLevel')\n",
    "plt.show()"
   ]
  },
  {
   "cell_type": "code",
   "execution_count": null,
   "id": "92506f08-9716-4982-a2f1-85d00e2ecb4c",
   "metadata": {},
   "outputs": [],
   "source": [
    "#Top 3 stressful Occupations"
   ]
  },
  {
   "cell_type": "code",
   "execution_count": 67,
   "id": "7980dbd4-a580-4819-b789-4ed870ceab7f",
   "metadata": {},
   "outputs": [
    {
     "name": "stdout",
     "output_type": "stream",
     "text": [
      "             Occupation  StressLevel\n",
      "6  Sales Representative          8.0\n",
      "7           Salesperson          7.0\n",
      "8             Scientist          7.0\n"
     ]
    }
   ],
   "source": [
    "avgStressByOccupation = df.groupby('Occupation')['StressLevel'].mean().reset_index()\n",
    "sortedAvgStressByOccupation = avgStressByOccupation.sort_values(by='StressLevel', ascending=False)\n",
    "topStressfulOccupations = sortedAvgStressByOccupation.head(3)\n",
    "print(topStressfulOccupations)"
   ]
  },
  {
   "cell_type": "code",
   "execution_count": 90,
   "id": "68282ced-7f3b-4670-9759-5c9ad175ccca",
   "metadata": {},
   "outputs": [
    {
     "data": {
      "image/png": "[encoded data removed]",
      "text/plain": [
       "<Figure size 1200x800 with 2 Axes>"
      ]
     },
     "metadata": {},
     "output_type": "display_data"
    }
   ],
   "source": [
    "grouped_df = df.groupby('StressLevel').agg({\n",
    "    'PhysicalActivityLevel': 'mean',\n",
    "    'HeartRate': 'mean'\n",
    "}).reset_index()\n",
    "\n",
    "grouped_df.columns = ['StressLevel', 'AvgPhysicalActivityLevel', 'AvgHeartRate']\n",
    "\n",
    "\n",
    "fig, ax1 = plt.subplots(figsize=(12, 8))\n",
    ",\n",
    "ax1.bar(grouped_df['StressLevel'], grouped_df['AvgPhysicalActivityLevel'], color='skyblue', label='Avg Physical Activity Level')\n",
    "\n",
    "ax2 = ax1.twinx()\n",
    "ax2.plot(grouped_df['StressLevel'], grouped_df['AvgHeartRate'], color='r', marker='o', label='Avg HeartRate')\n",
    "\n",
    "ax1.set_xlabel('StressLevel')\n",
    "ax1.set_ylabel('Avg Physical Activity Level', color='skyblue')\n",
    "ax2.set_ylabel('Avg Heart Rate', color='r')\n",
    "ax1.set_title('Avg Physical Activity Level and Avg Heart Rate by Age Category')\n",
    "\n",
    "ax1.legend(loc='upper left')\n",
    "ax2.legend(loc='upper right')\n",
    "\n",
    "plt.show()"
   ]
  },
  {
   "cell_type": "code",
   "execution_count": 94,
   "id": "83fa1a79-f33c-497c-8bfc-76bdd6146855",
   "metadata": {},
   "outputs": [
    {
     "data": {
      "image/png": "[encoded data removed]",
      "text/plain": [
       "<Figure size 1200x800 with 1 Axes>"
      ]
     },
     "metadata": {},
     "output_type": "display_data"
    }
   ],
   "source": [
    "grouped_df = df.groupby('BMICategory').agg({\n",
    "    'PhysicalActivityLevel': 'mean'\n",
    "}).reset_index()\n",
    "\n",
    "grouped_df.columns = ['BMICategory', 'AvgPhysicalActivityLevel']\n",
    "\n",
    "fig, ax1 = plt.subplots(figsize=(12, 8))\n",
    "\n",
    "ax1.bar(grouped_df['BMICategory'], grouped_df['AvgPhysicalActivityLevel'], color='skyblue', label='Avg Physical Activity Level')\n",
    "\n",
    "ax1.set_xlabel('BMICategory')\n",
    "ax1.set_ylabel('Avg Physical Activity Level', color='skyblue')\n",
    "ax1.set_title('Avg Physical Activity Level by BMICategory')\n",
    "\n",
    "plt.legend()\n",
    "plt.show()"
   ]
  },
  {
   "cell_type": "code",
   "execution_count": null,
   "id": "60a42ca9-a80b-41a9-881f-38813a3023c7",
   "metadata": {},
   "outputs": [],
   "source": []
  }
 ],
 "metadata": {
  "kernelspec": {
   "display_name": "Python 3 (ipykernel)",
   "language": "python",
   "name": "python3"
  },
  "language_info": {
   "codemirror_mode": {
    "name": "ipython",
    "version": 3
   },
   "file_extension": ".py",
   "mimetype": "text/x-python",
   "name": "python",
   "nbconvert_exporter": "python",
   "pygments_lexer": "ipython3",
   "version": "3.12.0"
  }
 },
 "nbformat": 4,
 "nbformat_minor": 5
}
